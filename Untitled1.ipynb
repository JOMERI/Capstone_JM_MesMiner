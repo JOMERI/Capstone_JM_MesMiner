{
 "cells": [
  {
   "cell_type": "code",
   "execution_count": null,
   "metadata": {},
   "outputs": [],
   "source": []
  },
  {
   "cell_type": "code",
   "execution_count": null,
   "metadata": {},
   "outputs": [],
   "source": []
  },
  {
   "cell_type": "code",
   "execution_count": 1,
   "metadata": {},
   "outputs": [],
   "source": [
    "!conda activate scispacy"
   ]
  },
  {
   "cell_type": "code",
   "execution_count": null,
   "metadata": {},
   "outputs": [],
   "source": []
  },
  {
   "cell_type": "code",
   "execution_count": 30,
   "metadata": {
    "collapsed": true
   },
   "outputs": [
    {
     "name": "stdout",
     "output_type": "stream",
     "text": [
      "Collecting https://s3-us-west-2.amazonaws.com/ai2-s2-scispacy/releases/v0.2.5/en_ner_jnlpba_md-0.2.5.tar.gz\n",
      "  Using cached https://s3-us-west-2.amazonaws.com/ai2-s2-scispacy/releases/v0.2.5/en_ner_jnlpba_md-0.2.5.tar.gz (79.9 MB)\n",
      "Requirement already satisfied (use --upgrade to upgrade): en-ner-jnlpba-md==0.2.5 from https://s3-us-west-2.amazonaws.com/ai2-s2-scispacy/releases/v0.2.5/en_ner_jnlpba_md-0.2.5.tar.gz in c:\\users\\mese4\\anaconda3\\lib\\site-packages\n",
      "Requirement already satisfied: spacy>=2.3.0 in c:\\users\\mese4\\anaconda3\\lib\\site-packages (from en-ner-jnlpba-md==0.2.5) (2.3.1)\n",
      "Requirement already satisfied: numpy>=1.15.0 in c:\\users\\mese4\\anaconda3\\lib\\site-packages (from spacy>=2.3.0->en-ner-jnlpba-md==0.2.5) (1.18.1)\n",
      "Requirement already satisfied: thinc==7.4.1 in c:\\users\\mese4\\anaconda3\\lib\\site-packages (from spacy>=2.3.0->en-ner-jnlpba-md==0.2.5) (7.4.1)\n",
      "Requirement already satisfied: cymem<2.1.0,>=2.0.2 in c:\\users\\mese4\\anaconda3\\lib\\site-packages (from spacy>=2.3.0->en-ner-jnlpba-md==0.2.5) (2.0.3)\n",
      "Requirement already satisfied: srsly<1.1.0,>=1.0.2 in c:\\users\\mese4\\anaconda3\\lib\\site-packages (from spacy>=2.3.0->en-ner-jnlpba-md==0.2.5) (1.0.2)\n",
      "Requirement already satisfied: tqdm<5.0.0,>=4.38.0 in c:\\users\\mese4\\anaconda3\\lib\\site-packages (from spacy>=2.3.0->en-ner-jnlpba-md==0.2.5) (4.46.0)\n",
      "Requirement already satisfied: setuptools in c:\\users\\mese4\\anaconda3\\lib\\site-packages (from spacy>=2.3.0->en-ner-jnlpba-md==0.2.5) (46.2.0.post20200511)\n",
      "Requirement already satisfied: preshed<3.1.0,>=3.0.2 in c:\\users\\mese4\\anaconda3\\lib\\site-packages (from spacy>=2.3.0->en-ner-jnlpba-md==0.2.5) (3.0.2)\n",
      "Requirement already satisfied: catalogue<1.1.0,>=0.0.7 in c:\\users\\mese4\\anaconda3\\lib\\site-packages (from spacy>=2.3.0->en-ner-jnlpba-md==0.2.5) (1.0.0)\n",
      "Requirement already satisfied: plac<1.2.0,>=0.9.6 in c:\\users\\mese4\\anaconda3\\lib\\site-packages (from spacy>=2.3.0->en-ner-jnlpba-md==0.2.5) (1.1.3)\n",
      "Requirement already satisfied: blis<0.5.0,>=0.4.0 in c:\\users\\mese4\\anaconda3\\lib\\site-packages (from spacy>=2.3.0->en-ner-jnlpba-md==0.2.5) (0.4.1)\n",
      "Requirement already satisfied: murmurhash<1.1.0,>=0.28.0 in c:\\users\\mese4\\anaconda3\\lib\\site-packages (from spacy>=2.3.0->en-ner-jnlpba-md==0.2.5) (1.0.2)\n",
      "Requirement already satisfied: wasabi<1.1.0,>=0.4.0 in c:\\users\\mese4\\anaconda3\\lib\\site-packages (from spacy>=2.3.0->en-ner-jnlpba-md==0.2.5) (0.7.0)\n",
      "Requirement already satisfied: requests<3.0.0,>=2.13.0 in c:\\users\\mese4\\anaconda3\\lib\\site-packages (from spacy>=2.3.0->en-ner-jnlpba-md==0.2.5) (2.23.0)\n",
      "Requirement already satisfied: importlib-metadata>=0.20; python_version < \"3.8\" in c:\\users\\mese4\\anaconda3\\lib\\site-packages (from catalogue<1.1.0,>=0.0.7->spacy>=2.3.0->en-ner-jnlpba-md==0.2.5) (1.5.0)\n",
      "Requirement already satisfied: idna<3,>=2.5 in c:\\users\\mese4\\anaconda3\\lib\\site-packages (from requests<3.0.0,>=2.13.0->spacy>=2.3.0->en-ner-jnlpba-md==0.2.5) (2.9)\n",
      "Requirement already satisfied: certifi>=2017.4.17 in c:\\users\\mese4\\anaconda3\\lib\\site-packages (from requests<3.0.0,>=2.13.0->spacy>=2.3.0->en-ner-jnlpba-md==0.2.5) (2020.4.5.1)\n",
      "Requirement already satisfied: chardet<4,>=3.0.2 in c:\\users\\mese4\\anaconda3\\lib\\site-packages (from requests<3.0.0,>=2.13.0->spacy>=2.3.0->en-ner-jnlpba-md==0.2.5) (3.0.4)\n",
      "Requirement already satisfied: urllib3!=1.25.0,!=1.25.1,<1.26,>=1.21.1 in c:\\users\\mese4\\anaconda3\\lib\\site-packages (from requests<3.0.0,>=2.13.0->spacy>=2.3.0->en-ner-jnlpba-md==0.2.5) (1.25.8)\n",
      "Requirement already satisfied: zipp>=0.5 in c:\\users\\mese4\\anaconda3\\lib\\site-packages (from importlib-metadata>=0.20; python_version < \"3.8\"->catalogue<1.1.0,>=0.0.7->spacy>=2.3.0->en-ner-jnlpba-md==0.2.5) (3.1.0)\n",
      "Building wheels for collected packages: en-ner-jnlpba-md\n",
      "  Building wheel for en-ner-jnlpba-md (setup.py): started\n",
      "  Building wheel for en-ner-jnlpba-md (setup.py): finished with status 'done'\n",
      "  Created wheel for en-ner-jnlpba-md: filename=en_ner_jnlpba_md-0.2.5-py3-none-any.whl size=79995440 sha256=cfef152b027454676328ae70c3160d3c627ab03d9a440c866e4c6fbf33a379fc\n",
      "  Stored in directory: c:\\users\\mese4\\appdata\\local\\pip\\cache\\wheels\\0e\\fb\\78\\dfcfa6ca2d2625df1ecf23cf7a79f325500902a49813f0e1b4\n",
      "Successfully built en-ner-jnlpba-md\n"
     ]
    }
   ],
   "source": [
    "\n",
    "\n",
    "!pip install https://s3-us-west-2.amazonaws.com/ai2-s2-scispacy/releases/v0.2.5/en_ner_jnlpba_md-0.2.5.tar.gz\n",
    "    "
   ]
  },
  {
   "cell_type": "code",
   "execution_count": null,
   "metadata": {},
   "outputs": [],
   "source": [
    "!pip install https://s3-us-west-2.amazonaws.com/ai2-s2-scispacy/releases/v0.2.5/en_core_sci_md-0.2.5.tar.gz"
   ]
  },
  {
   "cell_type": "code",
   "execution_count": null,
   "metadata": {},
   "outputs": [],
   "source": [
    "!pip install https://s3-us-west-2.amazonaws.com/ai2-s2-scispacy/releases/v0.2.5/en_ner_craft_md-0.2.5.tar.gz"
   ]
  },
  {
   "cell_type": "code",
   "execution_count": null,
   "metadata": {
    "scrolled": true
   },
   "outputs": [],
   "source": [
    "\n",
    "\n",
    "!pip install https://s3-us-west-2.amazonaws.com/ai2-s2-scispacy/releases/v0.2.5/en_ner_jnlpba_md-0.2.5.tar.gz"
   ]
  },
  {
   "cell_type": "code",
   "execution_count": null,
   "metadata": {},
   "outputs": [],
   "source": [
    "!pip install https://s3-us-west-2.amazonaws.com/ai2-s2-scispacy/releases/v0.2.5/en_ner_bc5cdr_md-0.2.5.tar.gz"
   ]
  },
  {
   "cell_type": "code",
   "execution_count": null,
   "metadata": {},
   "outputs": [],
   "source": [
    "!pip install https://s3-us-west-2.amazonaws.com/ai2-s2-scispacy/releases/v0.2.5/en_ner_bionlp13cg_md-0.2.5.tar.gz"
   ]
  },
  {
   "cell_type": "code",
   "execution_count": 1,
   "metadata": {},
   "outputs": [
    {
     "name": "stdout",
     "output_type": "stream",
     "text": [
      "done\n"
     ]
    }
   ],
   "source": [
    "import scispacy\n",
    "import spacy\n",
    "from spacy import displacy\n",
    "from collections import Counter\n",
    "#import en_core_web_sm\n",
    "import en_ner_bc5cdr_md\n",
    "#import en_core_sci_sm\n",
    "import en_core_sci_lg\n",
    "import en_core_sci_md\n",
    "import en_ner_craft_md\n",
    "import en_ner_jnlpba_md\n",
    "import en_ner_bionlp13cg_md\n",
    "from scispacy.abbreviation import AbbreviationDetector\n",
    "from scispacy.umls_linking import UmlsEntityLinker\n",
    "from collections import OrderedDict\n",
    "from pprint import pprint\n",
    "\n",
    "print('done')"
   ]
  },
  {
   "cell_type": "code",
   "execution_count": 2,
   "metadata": {},
   "outputs": [],
   "source": [
    "nlp = spacy.load(\"en_core_sci_lg\")"
   ]
  },
  {
   "cell_type": "code",
   "execution_count": 5,
   "metadata": {
    "scrolled": false
   },
   "outputs": [
    {
     "name": "stdout",
     "output_type": "stream",
     "text": [
      "Abbreviation \t Definition\n",
      "SBMA \t (6, 7) Spinal and bulbar muscular atrophy\n",
      "SBMA \t (33, 34) Spinal and bulbar muscular atrophy\n",
      "AR \t (29, 30) androgen receptor\n",
      "GC \t (51, 52) Gastric Cancer\n"
     ]
    }
   ],
   "source": [
    "# Add the abbreviation pipe to the spacy pipeline.\n",
    "abbreviation_pipe = AbbreviationDetector(nlp)\n",
    "nlp.add_pipe(abbreviation_pipe)\n",
    "\n",
    "doc = nlp(\"Spinal and bulbar muscular atrophy (SBMA) is an \\\n",
    "           inherited motor neuron disease caused by the expansion \\\n",
    "           of a polyglutamine tract within the androgen receptor (AR). \\\n",
    "           SBMA can be caused by this easily. Promoter inRelation to the Development \\\n",
    "           of Gastric Cancer (GC) and its use as aBiomarker for Patients with \\\n",
    "           Microsatellite, CD8 and HIF-1α, HIF1 for the Covid19 gene N, TRPM7 \\\n",
    "          mmp8 MMP1 MMP2  and GAID2a, HNF4α, hnf4 ACE2  ORF1b  a nrf2 , \\\n",
    "          Nucleoprotein1 ,  Nrf2 and brca2 Instability. brca2\")\n",
    "\n",
    "print(\"Abbreviation\", \"\\t\", \"Definition\")\n",
    "for abrv in doc._.abbreviations:\n",
    "\tprint(f\"{abrv} \\t ({abrv.start}, {abrv.end}) {abrv._.long_form}\")\n"
   ]
  },
  {
   "cell_type": "code",
   "execution_count": null,
   "metadata": {},
   "outputs": [],
   "source": []
  },
  {
   "cell_type": "code",
   "execution_count": 3,
   "metadata": {},
   "outputs": [],
   "source": [
    "import spacy\n",
    "import scispacy\n",
    "\n",
    "from scispacy.linking import EntityLinker"
   ]
  },
  {
   "cell_type": "code",
   "execution_count": 8,
   "metadata": {},
   "outputs": [
    {
     "name": "stderr",
     "output_type": "stream",
     "text": [
      "C:\\Users\\mese4\\Anaconda3\\lib\\site-packages\\sklearn\\base.py:318: UserWarning: Trying to unpickle estimator TfidfTransformer from version 0.20.3 when using version 0.22.1. This might lead to breaking code or invalid results. Use at your own risk.\n",
      "  UserWarning)\n",
      "C:\\Users\\mese4\\Anaconda3\\lib\\site-packages\\sklearn\\base.py:318: UserWarning: Trying to unpickle estimator TfidfVectorizer from version 0.20.3 when using version 0.22.1. This might lead to breaking code or invalid results. Use at your own risk.\n",
      "  UserWarning)\n"
     ]
    },
    {
     "name": "stdout",
     "output_type": "stream",
     "text": [
      "CUI: C0598034, Name: BRCA2 gene\n",
      "Definition: A tumor suppressor gene (GENES, TUMOR SUPPRESSOR) located on human chromosome 13 at locus 13q12.3. Mutations in this gene predispose humans to breast and ovarian cancer. It encodes a large, nuclear protein that is an essential component of DNA repair pathways, suppressing the formation of gross chromosomal rearrangements. (from Genes Dev 2000;14(11):1400-6)\n",
      "TUI(s): T028\n",
      "Aliases (abbreviated, total: 31): \n",
      "\t BRCA2 gene, BRCA2 gene, Gene, BRCA2, brca2 gene, BRCA2 Gene, BRCA2 Gene, BRCA2 Gene, BRCA2 GENE, brca2 genes, BRCA2 Genes\n",
      "CUI: C2973986, Name: BRCA2 protein, human\n",
      "Definition: Breast cancer type 2 susceptibility protein (3418 aa, ~384 kDa) is encoded by the human BRCA2 gene. This protein plays a role in both cell cycle regulation and DNA repair.\n",
      "TUI(s): T116, T123\n",
      "Aliases (abbreviated, total: 16): \n",
      "\t BRCA2 protein, human, BRCA2 Protein, FACD protein, human, Breast Cancer 2 Tumor Suppressor, Breast and Ovarian Cancer Susceptibility Protein 2, BRCA2, Breast Cancer Type 2 Susceptibility Protein, Breast Cancer Type 2 Susceptibility Protein, Breast Cancer 2, Early Onset Protein, FANCD1\n",
      "CUI: C0294028, Name: BRCA2 Protein\n",
      "Definition: A large, nuclear protein, encoded by the BRCA2 gene (GENE, BRCA2). Mutations in this gene predispose humans to breast and ovarian cancer. The BRCA2 protein is an essential component of DNA repair pathways, suppressing the formation of gross chromosomal rearrangements. (from Genes Dev. 2000;14(11):1400-6)\n",
      "TUI(s): T116, T123\n",
      "Aliases (abbreviated, total: 11): \n",
      "\t BRCA2 Protein, BRCA2 Gene Product, BRCA2 gene product, Breast cancer type 2 susceptibility protein, Breast Cancer 2 Gene Product, Breast cancer type 2 susceptibility protein (substance), Breast Cancer 2 Protein, Fanconi Anemia Group D1 Complementing Protein, Fanconi Anemia Complementation Group D1 Protein, Fanconi Anemia Group D1 Protein\n",
      "CUI: C1445910, Name: BRCA2 gene mutation negative\n",
      "Definition: A genetic finding indicating that BRCA2 gene mutations have not been detected in a sample.\n",
      "TUI(s): T034\n",
      "Aliases (abbreviated, total: 13): \n",
      "\t BRCA2 Gene Mutation Negative, BRCA2 Gene Mutation Negative, BRCA2 wt, Breast Cancer 2 Gene Mutation Negative, BRCA2 Wildtype, BROVCA2 Gene Mutation Negative, Breast Cancer Type 2 Susceptibility Gene Mutation Negative, FANCD1 Gene Mutation Negative, BRCA2 Mutation Negative, BRCC2 Gene Mutation Negative\n",
      "CUI: C1511024, Name: BRCA2 Gene Mutation\n",
      "Definition: A mutation that is typically a heritable, permanent change in the nucleotide sequence of the BRCA2 gene. Single nucleotide substitutions and small deletions or insertions (1-20 bases) account for the majority of mutations in the BRCA2 gene. Most of these alterations result in a truncated form of the breast cancer type 2 susceptibility protein. Mutations in the BRCA2 gene predispose males to breast cancer.\n",
      "TUI(s): T049\n",
      "Aliases: (total: 9): \n",
      "\t BRCA2 Gene Mutation, Mutation of the BRCA2 Gene, Breast Cancer Type 2 Susceptibility Gene Mutation, BRCC2 Gene Mutation, Breast Cancer 2 Gene Mutation, BROVCA2 Gene Mutation, Breast Cancer 2, Early Onset Gene Mutation, FANCD1 Gene Mutation, BRCA2 Mutation\n"
     ]
    }
   ],
   "source": [
    "\n",
    "#nlp = spacy.load(\"en_core_sci_md\")\n",
    "\n",
    "# This line takes a while, because we have to download ~1GB of data\n",
    "# and load a large JSON file (the knowledge base). Be patient!\n",
    "# Thankfully it should be faster after the first time you use it, because\n",
    "# the downloads are cached.\n",
    "# NOTE: The resolve_abbreviations parameter is optional, and requires that\n",
    "# the AbbreviationDetector pipe has already been added to the pipeline. Adding\n",
    "# the AbbreviationDetector pipe and setting resolve_abbreviations to True means\n",
    "# that linking will only be performed on the long form of abbreviations.\n",
    "linker = EntityLinker(resolve_abbreviations=True, name=\"umls\")\n",
    "\n",
    "nlp.add_pipe(linker)\n",
    "\n",
    "doc = nlp(\"Spinal and bulbar muscular atrophy (SBMA) is an \\\n",
    "           inherited motor neuron disease caused by the expansion \\\n",
    "           of a polyglutamine tract within the androgen receptor (AR). \\\n",
    "           SBMA can be caused by this easily Nrf2.Epigenetic Silencing \\\n",
    "           of the mutL homolog 1 (MLH1) Promoter inRelation to the Development \\\n",
    "           of Gastric Cancer (GC) and its use as aBiomarker for Patients with \\\n",
    "           Microsatellite, CD8 and HIF-1α, HIF1 for the Covid19 gene N, TRPM7 \\\n",
    "          mmp8 MMP1 MMP2  and GAID2a, HNF4α, hnf4 ACE2  ORF1b  a nrf2 , \\\n",
    "          Nucleoprotein1 ,  Nrf2 and brca2 Instability. brca2\")\n",
    "\n",
    "# Let's look at a random entity!\n",
    "entity = doc.ents[-1]\n",
    "\n",
    "for umls_ent in entity._.kb_ents:\n",
    "\tprint(linker.kb.cui_to_entity[umls_ent[0]])"
   ]
  },
  {
   "cell_type": "code",
   "execution_count": 9,
   "metadata": {},
   "outputs": [
    {
     "name": "stdout",
     "output_type": "stream",
     "text": [
      "Name:  VEGF\n",
      "CUI: C1823619, Name: VEGFA gene\n",
      "Definition: This gene is involved in the regulation of blood vessel growth. It also plays a role as a neurotrophic factor for motor neurons.\n",
      "TUI(s): T028\n",
      "Aliases (abbreviated, total: 13): \n",
      "\t VEGFA gene, VEGFA Gene, VEGFA Gene, VPF, VASCULAR ENDOTHELIAL GROWTH FACTOR A, vascular endothelial growth factor A, VEGF-A, VEGF, VEGFA, VEGFA\n",
      "CUI: C1256770, Name: Vascular Endothelial Growth Factors\n",
      "Definition: A family of angiogenic proteins that are closely-related to VASCULAR ENDOTHELIAL GROWTH FACTOR A. They play an important role in the growth and differentiation of vascular as well as lymphatic endothelial cells.\n",
      "TUI(s): T116, T123\n",
      "Aliases: (total: 8): \n",
      "\t Vascular Endothelial Growth Factors, Vascular endothelial growth factors, Vascular Endothelial Growth Factor, Vascular Endothelial Growth Factor Family, Vascular Endothelial Growth Factor Family, VEGF Family, VEGFs, VEGF\n",
      "CUI: C2349086, Name: VEGFA wt Allele\n",
      "Definition: Human VEGFA wild-type allele is located within 6p12 and is approximately 16 kb in length. This allele, which encodes vascular endothelial growth factor A protein, plays a role in several processes related to vasculature function, including angiogenesis. The allele is also involved in endothelial cell growth cell migration and apoptotic inhibition.\n",
      "TUI(s): T028\n",
      "Aliases: (total: 7): \n",
      "\t VEGFA wt Allele, VEGFA wt Allele, VPF, VEGF-A, VEGF, Vascular Endothelial Growth Factor A wt Allele, MGC70609\n",
      "CUI: C0078058, Name: Vascular Endothelial Growth Factor A\n",
      "Definition: The original member of the family of endothelial cell growth factors referred to as VASCULAR ENDOTHELIAL GROWTH FACTORS. Vascular endothelial growth factor-A was originally isolated from tumor cells and referred to as \"tumor angiogenesis factor\" and \"vascular permeability factor\". Although expressed at high levels in certain tumor-derived cells it is produced by a wide variety of cell types. In addition to stimulating vascular growth and vascular permeability it may play a role in stimulating VASODILATION via NITRIC OXIDE-dependent pathways. Alternative splicing of the mRNA for vascular endothelial growth factor A results in several isoforms of the protein being produced.\n",
      "TUI(s): T116, T123\n",
      "Aliases (abbreviated, total: 22): \n",
      "\t Vascular Endothelial Growth Factor A, Vascular endothelial growth factor A, Vascular endothelial growth factor A, Vascular Endothelial Growth Factor-A, Vascular Permeability Factor, vascular permeability factor, Permeability Factor, Vascular, Vasculotropin, Vasculotropin, Vascular Endothelial Growth Factor\n",
      "CUI: C1171892, Name: VEGF protein, human\n",
      "Definition: A substance made by cells that stimulates new blood vessel formation.\n",
      "TUI(s): T116, T123\n",
      "Aliases (abbreviated, total: 18): \n",
      "\t VEGF protein, human, Vascular Permeability Factor, Vascular Endothelial Growth Factor, VPF, Vascular Endothelial Growth Factor A, Vascular Endothelial Growth Factor A, VEGF-A, vascular endothelial growth factor-A, human, vascular endothelial growth factor A, human, vascular endothelial growth factor, human\n"
     ]
    }
   ],
   "source": [
    "#linker = EntityLinker(resolve_abbreviations=True, name=\"umls\")\n",
    "\n",
    "#nlp.add_pipe(linker)\n",
    "\n",
    "doc = nlp(\"VEGF\")\n",
    "\n",
    "# Let's look at a random entity!\n",
    "entity = doc.ents[0]\n",
    "\n",
    "\n",
    "\n",
    "print(\"Name: \", entity)\n",
    "for umls_ent in entity._.kb_ents:\n",
    "\tprint(linker.kb.cui_to_entity[umls_ent[0]])"
   ]
  },
  {
   "cell_type": "code",
   "execution_count": 4,
   "metadata": {},
   "outputs": [],
   "source": [
    "def display_entities(model,document):\n",
    "    \"\"\" \n",
    "    This function displays word entities\n",
    "\n",
    "    Parameters: \n",
    "         model(module): A pretrained model from spaCy(https://spacy.io/models) or ScispaCy(https://allenai.github.io/scispacy/)\n",
    "         document(str): Document to be processed\n",
    "\n",
    "    Returns: Image rendering and list of named/unnamed word entities and entity labels \n",
    "     \"\"\"\n",
    "    nlp = model.load()\n",
    "    doc = nlp(document)\n",
    "    displacy_image = displacy.render(doc, jupyter=True,style='ent')\n",
    "    entity_and_label = pprint(set([(X.text, X.label_) for X in doc.ents]))\n",
    "    return  displacy_image, entity_and_label"
   ]
  },
  {
   "cell_type": "code",
   "execution_count": 21,
   "metadata": {
    "scrolled": true
   },
   "outputs": [
    {
     "data": {
      "text/plain": [
       "'nrf2, Hif1a, up-regulation, liver, human hepatic, nrf2, Nrf2, MMP1, HNF4a, up, increase, overexpression, paracetamol inhibition, down, lower, reduction, background: ebolavirus (ebov) outbreaks, sporadic, cause tremendous morbidity mortality. therapeutic vaccine currently licensed; however, vaccine shown promise clinical trials. critical step towards development effective therapeutic better understanding factor govern host susceptibility pathogen. hage addition competitive inhibi filovirus identify novel murine receptor mediating ebov entry.'"
      ]
     },
     "execution_count": 21,
     "metadata": {},
     "output_type": "execute_result"
    }
   ],
   "source": [
    "test_doc =\"nrf2, Hif1a, up-regulation, liver, human hepatic, nrf2, Nrf2, MMP1, HNF4a, up, increase, overexpression, paracetamol inhibition, down, lower, reduction, background: ebolavirus (ebov) outbreaks, sporadic, cause tremendous morbidity mortality. therapeutic vaccine currently licensed; however, vaccine shown promise clinical trials. critical step towards development effective therapeutic better understanding factor govern host susceptibility pathogen. hage addition competitive inhibi filovirus identify novel murine receptor mediating ebov entry.\"\n",
    "\n",
    "test_doc"
   ]
  },
  {
   "cell_type": "code",
   "execution_count": 22,
   "metadata": {},
   "outputs": [
    {
     "data": {
      "text/html": [
       "<span class=\"tex2jax_ignore\"><div class=\"entities\" style=\"line-height: 2.5; direction: ltr\">\n",
       "<mark class=\"entity\" style=\"background: #ddd; padding: 0.45em 0.6em; margin: 0 0.25em; line-height: 1; border-radius: 0.35em;\">\n",
       "    nrf2\n",
       "    <span style=\"font-size: 0.8em; font-weight: bold; line-height: 1; border-radius: 0.35em; text-transform: uppercase; vertical-align: middle; margin-left: 0.5rem\">ENTITY</span>\n",
       "</mark>\n",
       ", \n",
       "<mark class=\"entity\" style=\"background: #ddd; padding: 0.45em 0.6em; margin: 0 0.25em; line-height: 1; border-radius: 0.35em;\">\n",
       "    Hif1a\n",
       "    <span style=\"font-size: 0.8em; font-weight: bold; line-height: 1; border-radius: 0.35em; text-transform: uppercase; vertical-align: middle; margin-left: 0.5rem\">ENTITY</span>\n",
       "</mark>\n",
       ", \n",
       "<mark class=\"entity\" style=\"background: #ddd; padding: 0.45em 0.6em; margin: 0 0.25em; line-height: 1; border-radius: 0.35em;\">\n",
       "    up-regulation\n",
       "    <span style=\"font-size: 0.8em; font-weight: bold; line-height: 1; border-radius: 0.35em; text-transform: uppercase; vertical-align: middle; margin-left: 0.5rem\">ENTITY</span>\n",
       "</mark>\n",
       ", \n",
       "<mark class=\"entity\" style=\"background: #ddd; padding: 0.45em 0.6em; margin: 0 0.25em; line-height: 1; border-radius: 0.35em;\">\n",
       "    liver\n",
       "    <span style=\"font-size: 0.8em; font-weight: bold; line-height: 1; border-radius: 0.35em; text-transform: uppercase; vertical-align: middle; margin-left: 0.5rem\">ENTITY</span>\n",
       "</mark>\n",
       ", \n",
       "<mark class=\"entity\" style=\"background: #ddd; padding: 0.45em 0.6em; margin: 0 0.25em; line-height: 1; border-radius: 0.35em;\">\n",
       "    human\n",
       "    <span style=\"font-size: 0.8em; font-weight: bold; line-height: 1; border-radius: 0.35em; text-transform: uppercase; vertical-align: middle; margin-left: 0.5rem\">ENTITY</span>\n",
       "</mark>\n",
       " \n",
       "<mark class=\"entity\" style=\"background: #ddd; padding: 0.45em 0.6em; margin: 0 0.25em; line-height: 1; border-radius: 0.35em;\">\n",
       "    hepatic\n",
       "    <span style=\"font-size: 0.8em; font-weight: bold; line-height: 1; border-radius: 0.35em; text-transform: uppercase; vertical-align: middle; margin-left: 0.5rem\">ENTITY</span>\n",
       "</mark>\n",
       ", \n",
       "<mark class=\"entity\" style=\"background: #ddd; padding: 0.45em 0.6em; margin: 0 0.25em; line-height: 1; border-radius: 0.35em;\">\n",
       "    nrf2\n",
       "    <span style=\"font-size: 0.8em; font-weight: bold; line-height: 1; border-radius: 0.35em; text-transform: uppercase; vertical-align: middle; margin-left: 0.5rem\">ENTITY</span>\n",
       "</mark>\n",
       ", \n",
       "<mark class=\"entity\" style=\"background: #ddd; padding: 0.45em 0.6em; margin: 0 0.25em; line-height: 1; border-radius: 0.35em;\">\n",
       "    Nrf2\n",
       "    <span style=\"font-size: 0.8em; font-weight: bold; line-height: 1; border-radius: 0.35em; text-transform: uppercase; vertical-align: middle; margin-left: 0.5rem\">ENTITY</span>\n",
       "</mark>\n",
       ", \n",
       "<mark class=\"entity\" style=\"background: #ddd; padding: 0.45em 0.6em; margin: 0 0.25em; line-height: 1; border-radius: 0.35em;\">\n",
       "    MMP1\n",
       "    <span style=\"font-size: 0.8em; font-weight: bold; line-height: 1; border-radius: 0.35em; text-transform: uppercase; vertical-align: middle; margin-left: 0.5rem\">ENTITY</span>\n",
       "</mark>\n",
       ", \n",
       "<mark class=\"entity\" style=\"background: #ddd; padding: 0.45em 0.6em; margin: 0 0.25em; line-height: 1; border-radius: 0.35em;\">\n",
       "    HNF4a\n",
       "    <span style=\"font-size: 0.8em; font-weight: bold; line-height: 1; border-radius: 0.35em; text-transform: uppercase; vertical-align: middle; margin-left: 0.5rem\">ENTITY</span>\n",
       "</mark>\n",
       ", up, \n",
       "<mark class=\"entity\" style=\"background: #ddd; padding: 0.45em 0.6em; margin: 0 0.25em; line-height: 1; border-radius: 0.35em;\">\n",
       "    increase\n",
       "    <span style=\"font-size: 0.8em; font-weight: bold; line-height: 1; border-radius: 0.35em; text-transform: uppercase; vertical-align: middle; margin-left: 0.5rem\">ENTITY</span>\n",
       "</mark>\n",
       ", \n",
       "<mark class=\"entity\" style=\"background: #ddd; padding: 0.45em 0.6em; margin: 0 0.25em; line-height: 1; border-radius: 0.35em;\">\n",
       "    overexpression\n",
       "    <span style=\"font-size: 0.8em; font-weight: bold; line-height: 1; border-radius: 0.35em; text-transform: uppercase; vertical-align: middle; margin-left: 0.5rem\">ENTITY</span>\n",
       "</mark>\n",
       ", \n",
       "<mark class=\"entity\" style=\"background: #ddd; padding: 0.45em 0.6em; margin: 0 0.25em; line-height: 1; border-radius: 0.35em;\">\n",
       "    paracetamol\n",
       "    <span style=\"font-size: 0.8em; font-weight: bold; line-height: 1; border-radius: 0.35em; text-transform: uppercase; vertical-align: middle; margin-left: 0.5rem\">ENTITY</span>\n",
       "</mark>\n",
       " \n",
       "<mark class=\"entity\" style=\"background: #ddd; padding: 0.45em 0.6em; margin: 0 0.25em; line-height: 1; border-radius: 0.35em;\">\n",
       "    inhibition\n",
       "    <span style=\"font-size: 0.8em; font-weight: bold; line-height: 1; border-radius: 0.35em; text-transform: uppercase; vertical-align: middle; margin-left: 0.5rem\">ENTITY</span>\n",
       "</mark>\n",
       ", down, \n",
       "<mark class=\"entity\" style=\"background: #ddd; padding: 0.45em 0.6em; margin: 0 0.25em; line-height: 1; border-radius: 0.35em;\">\n",
       "    lower\n",
       "    <span style=\"font-size: 0.8em; font-weight: bold; line-height: 1; border-radius: 0.35em; text-transform: uppercase; vertical-align: middle; margin-left: 0.5rem\">ENTITY</span>\n",
       "</mark>\n",
       ", \n",
       "<mark class=\"entity\" style=\"background: #ddd; padding: 0.45em 0.6em; margin: 0 0.25em; line-height: 1; border-radius: 0.35em;\">\n",
       "    reduction\n",
       "    <span style=\"font-size: 0.8em; font-weight: bold; line-height: 1; border-radius: 0.35em; text-transform: uppercase; vertical-align: middle; margin-left: 0.5rem\">ENTITY</span>\n",
       "</mark>\n",
       ", background: \n",
       "<mark class=\"entity\" style=\"background: #ddd; padding: 0.45em 0.6em; margin: 0 0.25em; line-height: 1; border-radius: 0.35em;\">\n",
       "    ebolavirus\n",
       "    <span style=\"font-size: 0.8em; font-weight: bold; line-height: 1; border-radius: 0.35em; text-transform: uppercase; vertical-align: middle; margin-left: 0.5rem\">ENTITY</span>\n",
       "</mark>\n",
       " (ebov) \n",
       "<mark class=\"entity\" style=\"background: #ddd; padding: 0.45em 0.6em; margin: 0 0.25em; line-height: 1; border-radius: 0.35em;\">\n",
       "    outbreaks\n",
       "    <span style=\"font-size: 0.8em; font-weight: bold; line-height: 1; border-radius: 0.35em; text-transform: uppercase; vertical-align: middle; margin-left: 0.5rem\">ENTITY</span>\n",
       "</mark>\n",
       ", \n",
       "<mark class=\"entity\" style=\"background: #ddd; padding: 0.45em 0.6em; margin: 0 0.25em; line-height: 1; border-radius: 0.35em;\">\n",
       "    sporadic\n",
       "    <span style=\"font-size: 0.8em; font-weight: bold; line-height: 1; border-radius: 0.35em; text-transform: uppercase; vertical-align: middle; margin-left: 0.5rem\">ENTITY</span>\n",
       "</mark>\n",
       ", cause tremendous \n",
       "<mark class=\"entity\" style=\"background: #ddd; padding: 0.45em 0.6em; margin: 0 0.25em; line-height: 1; border-radius: 0.35em;\">\n",
       "    morbidity\n",
       "    <span style=\"font-size: 0.8em; font-weight: bold; line-height: 1; border-radius: 0.35em; text-transform: uppercase; vertical-align: middle; margin-left: 0.5rem\">ENTITY</span>\n",
       "</mark>\n",
       " \n",
       "<mark class=\"entity\" style=\"background: #ddd; padding: 0.45em 0.6em; margin: 0 0.25em; line-height: 1; border-radius: 0.35em;\">\n",
       "    mortality\n",
       "    <span style=\"font-size: 0.8em; font-weight: bold; line-height: 1; border-radius: 0.35em; text-transform: uppercase; vertical-align: middle; margin-left: 0.5rem\">ENTITY</span>\n",
       "</mark>\n",
       ". \n",
       "<mark class=\"entity\" style=\"background: #ddd; padding: 0.45em 0.6em; margin: 0 0.25em; line-height: 1; border-radius: 0.35em;\">\n",
       "    therapeutic\n",
       "    <span style=\"font-size: 0.8em; font-weight: bold; line-height: 1; border-radius: 0.35em; text-transform: uppercase; vertical-align: middle; margin-left: 0.5rem\">ENTITY</span>\n",
       "</mark>\n",
       " \n",
       "<mark class=\"entity\" style=\"background: #ddd; padding: 0.45em 0.6em; margin: 0 0.25em; line-height: 1; border-radius: 0.35em;\">\n",
       "    vaccine\n",
       "    <span style=\"font-size: 0.8em; font-weight: bold; line-height: 1; border-radius: 0.35em; text-transform: uppercase; vertical-align: middle; margin-left: 0.5rem\">ENTITY</span>\n",
       "</mark>\n",
       " currently \n",
       "<mark class=\"entity\" style=\"background: #ddd; padding: 0.45em 0.6em; margin: 0 0.25em; line-height: 1; border-radius: 0.35em;\">\n",
       "    licensed\n",
       "    <span style=\"font-size: 0.8em; font-weight: bold; line-height: 1; border-radius: 0.35em; text-transform: uppercase; vertical-align: middle; margin-left: 0.5rem\">ENTITY</span>\n",
       "</mark>\n",
       "; however, \n",
       "<mark class=\"entity\" style=\"background: #ddd; padding: 0.45em 0.6em; margin: 0 0.25em; line-height: 1; border-radius: 0.35em;\">\n",
       "    vaccine\n",
       "    <span style=\"font-size: 0.8em; font-weight: bold; line-height: 1; border-radius: 0.35em; text-transform: uppercase; vertical-align: middle; margin-left: 0.5rem\">ENTITY</span>\n",
       "</mark>\n",
       " shown promise \n",
       "<mark class=\"entity\" style=\"background: #ddd; padding: 0.45em 0.6em; margin: 0 0.25em; line-height: 1; border-radius: 0.35em;\">\n",
       "    clinical trials\n",
       "    <span style=\"font-size: 0.8em; font-weight: bold; line-height: 1; border-radius: 0.35em; text-transform: uppercase; vertical-align: middle; margin-left: 0.5rem\">ENTITY</span>\n",
       "</mark>\n",
       ". critical step towards \n",
       "<mark class=\"entity\" style=\"background: #ddd; padding: 0.45em 0.6em; margin: 0 0.25em; line-height: 1; border-radius: 0.35em;\">\n",
       "    development\n",
       "    <span style=\"font-size: 0.8em; font-weight: bold; line-height: 1; border-radius: 0.35em; text-transform: uppercase; vertical-align: middle; margin-left: 0.5rem\">ENTITY</span>\n",
       "</mark>\n",
       " \n",
       "<mark class=\"entity\" style=\"background: #ddd; padding: 0.45em 0.6em; margin: 0 0.25em; line-height: 1; border-radius: 0.35em;\">\n",
       "    effective\n",
       "    <span style=\"font-size: 0.8em; font-weight: bold; line-height: 1; border-radius: 0.35em; text-transform: uppercase; vertical-align: middle; margin-left: 0.5rem\">ENTITY</span>\n",
       "</mark>\n",
       " \n",
       "<mark class=\"entity\" style=\"background: #ddd; padding: 0.45em 0.6em; margin: 0 0.25em; line-height: 1; border-radius: 0.35em;\">\n",
       "    therapeutic\n",
       "    <span style=\"font-size: 0.8em; font-weight: bold; line-height: 1; border-radius: 0.35em; text-transform: uppercase; vertical-align: middle; margin-left: 0.5rem\">ENTITY</span>\n",
       "</mark>\n",
       " better understanding \n",
       "<mark class=\"entity\" style=\"background: #ddd; padding: 0.45em 0.6em; margin: 0 0.25em; line-height: 1; border-radius: 0.35em;\">\n",
       "    factor\n",
       "    <span style=\"font-size: 0.8em; font-weight: bold; line-height: 1; border-radius: 0.35em; text-transform: uppercase; vertical-align: middle; margin-left: 0.5rem\">ENTITY</span>\n",
       "</mark>\n",
       " govern \n",
       "<mark class=\"entity\" style=\"background: #ddd; padding: 0.45em 0.6em; margin: 0 0.25em; line-height: 1; border-radius: 0.35em;\">\n",
       "    host\n",
       "    <span style=\"font-size: 0.8em; font-weight: bold; line-height: 1; border-radius: 0.35em; text-transform: uppercase; vertical-align: middle; margin-left: 0.5rem\">ENTITY</span>\n",
       "</mark>\n",
       " \n",
       "<mark class=\"entity\" style=\"background: #ddd; padding: 0.45em 0.6em; margin: 0 0.25em; line-height: 1; border-radius: 0.35em;\">\n",
       "    susceptibility pathogen\n",
       "    <span style=\"font-size: 0.8em; font-weight: bold; line-height: 1; border-radius: 0.35em; text-transform: uppercase; vertical-align: middle; margin-left: 0.5rem\">ENTITY</span>\n",
       "</mark>\n",
       ". \n",
       "<mark class=\"entity\" style=\"background: #ddd; padding: 0.45em 0.6em; margin: 0 0.25em; line-height: 1; border-radius: 0.35em;\">\n",
       "    hage\n",
       "    <span style=\"font-size: 0.8em; font-weight: bold; line-height: 1; border-radius: 0.35em; text-transform: uppercase; vertical-align: middle; margin-left: 0.5rem\">ENTITY</span>\n",
       "</mark>\n",
       " addition \n",
       "<mark class=\"entity\" style=\"background: #ddd; padding: 0.45em 0.6em; margin: 0 0.25em; line-height: 1; border-radius: 0.35em;\">\n",
       "    competitive\n",
       "    <span style=\"font-size: 0.8em; font-weight: bold; line-height: 1; border-radius: 0.35em; text-transform: uppercase; vertical-align: middle; margin-left: 0.5rem\">ENTITY</span>\n",
       "</mark>\n",
       " \n",
       "<mark class=\"entity\" style=\"background: #ddd; padding: 0.45em 0.6em; margin: 0 0.25em; line-height: 1; border-radius: 0.35em;\">\n",
       "    inhibi\n",
       "    <span style=\"font-size: 0.8em; font-weight: bold; line-height: 1; border-radius: 0.35em; text-transform: uppercase; vertical-align: middle; margin-left: 0.5rem\">ENTITY</span>\n",
       "</mark>\n",
       " \n",
       "<mark class=\"entity\" style=\"background: #ddd; padding: 0.45em 0.6em; margin: 0 0.25em; line-height: 1; border-radius: 0.35em;\">\n",
       "    filovirus\n",
       "    <span style=\"font-size: 0.8em; font-weight: bold; line-height: 1; border-radius: 0.35em; text-transform: uppercase; vertical-align: middle; margin-left: 0.5rem\">ENTITY</span>\n",
       "</mark>\n",
       " identify novel \n",
       "<mark class=\"entity\" style=\"background: #ddd; padding: 0.45em 0.6em; margin: 0 0.25em; line-height: 1; border-radius: 0.35em;\">\n",
       "    murine receptor\n",
       "    <span style=\"font-size: 0.8em; font-weight: bold; line-height: 1; border-radius: 0.35em; text-transform: uppercase; vertical-align: middle; margin-left: 0.5rem\">ENTITY</span>\n",
       "</mark>\n",
       " mediating ebov \n",
       "<mark class=\"entity\" style=\"background: #ddd; padding: 0.45em 0.6em; margin: 0 0.25em; line-height: 1; border-radius: 0.35em;\">\n",
       "    entry\n",
       "    <span style=\"font-size: 0.8em; font-weight: bold; line-height: 1; border-radius: 0.35em; text-transform: uppercase; vertical-align: middle; margin-left: 0.5rem\">ENTITY</span>\n",
       "</mark>\n",
       ".</div></span>"
      ],
      "text/plain": [
       "<IPython.core.display.HTML object>"
      ]
     },
     "metadata": {},
     "output_type": "display_data"
    },
    {
     "name": "stdout",
     "output_type": "stream",
     "text": [
      "{('HNF4a', 'ENTITY'),\n",
      " ('Hif1a', 'ENTITY'),\n",
      " ('MMP1', 'ENTITY'),\n",
      " ('Nrf2', 'ENTITY'),\n",
      " ('clinical trials', 'ENTITY'),\n",
      " ('competitive', 'ENTITY'),\n",
      " ('development', 'ENTITY'),\n",
      " ('ebolavirus', 'ENTITY'),\n",
      " ('effective', 'ENTITY'),\n",
      " ('entry', 'ENTITY'),\n",
      " ('factor', 'ENTITY'),\n",
      " ('filovirus', 'ENTITY'),\n",
      " ('hage', 'ENTITY'),\n",
      " ('hepatic', 'ENTITY'),\n",
      " ('host', 'ENTITY'),\n",
      " ('human', 'ENTITY'),\n",
      " ('increase', 'ENTITY'),\n",
      " ('inhibi', 'ENTITY'),\n",
      " ('inhibition', 'ENTITY'),\n",
      " ('licensed', 'ENTITY'),\n",
      " ('liver', 'ENTITY'),\n",
      " ('lower', 'ENTITY'),\n",
      " ('morbidity', 'ENTITY'),\n",
      " ('mortality', 'ENTITY'),\n",
      " ('murine receptor', 'ENTITY'),\n",
      " ('nrf2', 'ENTITY'),\n",
      " ('outbreaks', 'ENTITY'),\n",
      " ('overexpression', 'ENTITY'),\n",
      " ('paracetamol', 'ENTITY'),\n",
      " ('reduction', 'ENTITY'),\n",
      " ('sporadic', 'ENTITY'),\n",
      " ('susceptibility pathogen', 'ENTITY'),\n",
      " ('therapeutic', 'ENTITY'),\n",
      " ('up-regulation', 'ENTITY'),\n",
      " ('vaccine', 'ENTITY')}\n"
     ]
    },
    {
     "data": {
      "text/plain": [
       "(None, None)"
      ]
     },
     "execution_count": 22,
     "metadata": {},
     "output_type": "execute_result"
    }
   ],
   "source": [
    "display_entities(en_core_sci_md,test_doc)"
   ]
  },
  {
   "cell_type": "code",
   "execution_count": null,
   "metadata": {},
   "outputs": [],
   "source": []
  },
  {
   "cell_type": "code",
   "execution_count": 32,
   "metadata": {},
   "outputs": [],
   "source": [
    "def display_entities2(document):\n",
    "    \"\"\" \n",
    "    This function displays word entities\n",
    "\n",
    "    Parameters: \n",
    "         model(module): A pretrained model from spaCy(https://spacy.io/models) or ScispaCy(https://allenai.github.io/scispacy/)\n",
    "         document(str): Document to be processed\n",
    "\n",
    "    Returns: Image rendering and list of named/unnamed word entities and entity labels \n",
    "     \"\"\"\n",
    "   \n",
    "    doc = nlp(document)\n",
    "    #displacy_image = displacy.render(doc, jupyter=True,style='ent')\n",
    "    entity_and_label = [(X.text, X.label_) for X in doc.ents]\n",
    "    #print(entity_and_label)\n",
    "    ent_lst=[]\n",
    "    gene_ent=[]\n",
    "   # for tpls in entity_and_label:\n",
    "    #    if tpls[1] =='GENE_OR_GENE_PRODUCT': \n",
    "     #       gene_lst.append(tpls[0])\n",
    "    for ent in doc.ents:\n",
    "        if ent.label_ == 'ENTITY':\n",
    "            ent_lst.append(ent.text)\n",
    "            #print(ent.text, ent.start_char, ent.end_char, ent.label_)\n",
    "            \n",
    "\n",
    "            \n",
    "            \n",
    "    return  ent_lst"
   ]
  },
  {
   "cell_type": "code",
   "execution_count": 33,
   "metadata": {
    "scrolled": true
   },
   "outputs": [],
   "source": [
    "#nlp = spacy.load(\"en_core_sci_lg\")\n",
    "a=display_entities2(test_doc)"
   ]
  },
  {
   "cell_type": "code",
   "execution_count": 35,
   "metadata": {},
   "outputs": [
    {
     "ename": "TypeError",
     "evalue": "Argument 'string' has incorrect type (expected str, got list)",
     "output_type": "error",
     "traceback": [
      "\u001b[1;31m---------------------------------------------------------------------------\u001b[0m",
      "\u001b[1;31mTypeError\u001b[0m                                 Traceback (most recent call last)",
      "\u001b[1;32m<ipython-input-35-2dc1b0decda1>\u001b[0m in \u001b[0;36m<module>\u001b[1;34m\u001b[0m\n\u001b[1;32m----> 1\u001b[1;33m \u001b[0mdoc2\u001b[0m\u001b[1;33m=\u001b[0m\u001b[0mnlp\u001b[0m\u001b[1;33m(\u001b[0m\u001b[0ma\u001b[0m\u001b[1;33m)\u001b[0m\u001b[1;33m\u001b[0m\u001b[1;33m\u001b[0m\u001b[0m\n\u001b[0m",
      "\u001b[1;32m~\\Anaconda3\\lib\\site-packages\\spacy\\language.py\u001b[0m in \u001b[0;36m__call__\u001b[1;34m(self, text, disable, component_cfg)\u001b[0m\n\u001b[0;32m    439\u001b[0m                 \u001b[0mErrors\u001b[0m\u001b[1;33m.\u001b[0m\u001b[0mE088\u001b[0m\u001b[1;33m.\u001b[0m\u001b[0mformat\u001b[0m\u001b[1;33m(\u001b[0m\u001b[0mlength\u001b[0m\u001b[1;33m=\u001b[0m\u001b[0mlen\u001b[0m\u001b[1;33m(\u001b[0m\u001b[0mtext\u001b[0m\u001b[1;33m)\u001b[0m\u001b[1;33m,\u001b[0m \u001b[0mmax_length\u001b[0m\u001b[1;33m=\u001b[0m\u001b[0mself\u001b[0m\u001b[1;33m.\u001b[0m\u001b[0mmax_length\u001b[0m\u001b[1;33m)\u001b[0m\u001b[1;33m\u001b[0m\u001b[1;33m\u001b[0m\u001b[0m\n\u001b[0;32m    440\u001b[0m             )\n\u001b[1;32m--> 441\u001b[1;33m         \u001b[0mdoc\u001b[0m \u001b[1;33m=\u001b[0m \u001b[0mself\u001b[0m\u001b[1;33m.\u001b[0m\u001b[0mmake_doc\u001b[0m\u001b[1;33m(\u001b[0m\u001b[0mtext\u001b[0m\u001b[1;33m)\u001b[0m\u001b[1;33m\u001b[0m\u001b[1;33m\u001b[0m\u001b[0m\n\u001b[0m\u001b[0;32m    442\u001b[0m         \u001b[1;32mif\u001b[0m \u001b[0mcomponent_cfg\u001b[0m \u001b[1;32mis\u001b[0m \u001b[1;32mNone\u001b[0m\u001b[1;33m:\u001b[0m\u001b[1;33m\u001b[0m\u001b[1;33m\u001b[0m\u001b[0m\n\u001b[0;32m    443\u001b[0m             \u001b[0mcomponent_cfg\u001b[0m \u001b[1;33m=\u001b[0m \u001b[1;33m{\u001b[0m\u001b[1;33m}\u001b[0m\u001b[1;33m\u001b[0m\u001b[1;33m\u001b[0m\u001b[0m\n",
      "\u001b[1;32m~\\Anaconda3\\lib\\site-packages\\spacy\\language.py\u001b[0m in \u001b[0;36mmake_doc\u001b[1;34m(self, text)\u001b[0m\n\u001b[0;32m    465\u001b[0m \u001b[1;33m\u001b[0m\u001b[0m\n\u001b[0;32m    466\u001b[0m     \u001b[1;32mdef\u001b[0m \u001b[0mmake_doc\u001b[0m\u001b[1;33m(\u001b[0m\u001b[0mself\u001b[0m\u001b[1;33m,\u001b[0m \u001b[0mtext\u001b[0m\u001b[1;33m)\u001b[0m\u001b[1;33m:\u001b[0m\u001b[1;33m\u001b[0m\u001b[1;33m\u001b[0m\u001b[0m\n\u001b[1;32m--> 467\u001b[1;33m         \u001b[1;32mreturn\u001b[0m \u001b[0mself\u001b[0m\u001b[1;33m.\u001b[0m\u001b[0mtokenizer\u001b[0m\u001b[1;33m(\u001b[0m\u001b[0mtext\u001b[0m\u001b[1;33m)\u001b[0m\u001b[1;33m\u001b[0m\u001b[1;33m\u001b[0m\u001b[0m\n\u001b[0m\u001b[0;32m    468\u001b[0m \u001b[1;33m\u001b[0m\u001b[0m\n\u001b[0;32m    469\u001b[0m     \u001b[1;32mdef\u001b[0m \u001b[0m_format_docs_and_golds\u001b[0m\u001b[1;33m(\u001b[0m\u001b[0mself\u001b[0m\u001b[1;33m,\u001b[0m \u001b[0mdocs\u001b[0m\u001b[1;33m,\u001b[0m \u001b[0mgolds\u001b[0m\u001b[1;33m)\u001b[0m\u001b[1;33m:\u001b[0m\u001b[1;33m\u001b[0m\u001b[1;33m\u001b[0m\u001b[0m\n",
      "\u001b[1;31mTypeError\u001b[0m: Argument 'string' has incorrect type (expected str, got list)"
     ]
    }
   ],
   "source": [
    "type(a[1][0]"
   ]
  },
  {
   "cell_type": "code",
   "execution_count": null,
   "metadata": {},
   "outputs": [],
   "source": [
    "def display_entities3(model,document):\n",
    "    \"\"\" \n",
    "    This function displays word entities\n",
    "\n",
    "    Parameters: \n",
    "         model(module): A pretrained model from spaCy(https://spacy.io/models) or ScispaCy(https://allenai.github.io/scispacy/)\n",
    "         document(str): Document to be processed\n",
    "\n",
    "    Returns: Image rendering and list of named/unnamed word entities and entity labels \n",
    "     \"\"\"\n",
    "    nlp = model.load()\n",
    "    doc = nlp(document)\n",
    "    gene_lst=[]\n",
    "    gene_ent=[]    \n",
    "    for token in doc:\n",
    "        #print(token.ent_type_)\n",
    "        if token.ent_type_ =='GENE_OR_GENE_PRODUCT':\n",
    "            #print(token)\n",
    "            i=token.i\n",
    "            span = doc[i-8:i+8]\n",
    "            gene_ent.append(span)\n",
    "#\n",
    "            \n",
    "    \n",
    "    return  gene_ent"
   ]
  },
  {
   "cell_type": "code",
   "execution_count": null,
   "metadata": {},
   "outputs": [],
   "source": [
    "display_entities3(en_ner_bionlp13cg_md,test_doc)"
   ]
  },
  {
   "cell_type": "code",
   "execution_count": 35,
   "metadata": {},
   "outputs": [],
   "source": [
    "def display_entitie4(model,document):\n",
    "    \"\"\" \n",
    "    This function displays word entities\n",
    "\n",
    "    Parameters: \n",
    "         model(module): A pretrained model from spaCy(https://spacy.io/models) or ScispaCy(https://allenai.github.io/scispacy/)\n",
    "         document(str): Document to be processed\n",
    "\n",
    "    Returns: Image rendering and list of named/unnamed word entities and entity labels \n",
    "     \"\"\"\n",
    "    nlp = model.load()\n",
    "    doc = nlp(document)\n",
    "    gene_lst=[]\n",
    "    gene_ent=[]    \n",
    "    for token in doc:\n",
    "        print(token.ent_type_)\n",
    "        if token.ent_type_ =='GENE_OR_GENE_PRODUCT':\n",
    "            #print(token)\n",
    "            i=token.i\n",
    "            span = doc[i-8:i+8]\n",
    "            gene_ent.append(span)\n",
    "#\n",
    "            \n",
    "    \n",
    "    return  gene_ent"
   ]
  },
  {
   "cell_type": "code",
   "execution_count": 39,
   "metadata": {},
   "outputs": [
    {
     "ename": "NameError",
     "evalue": "name 'en_core_sci_lg' is not defined",
     "output_type": "error",
     "traceback": [
      "\u001b[1;31m---------------------------------------------------------------------------\u001b[0m",
      "\u001b[1;31mNameError\u001b[0m                                 Traceback (most recent call last)",
      "\u001b[1;32m<ipython-input-39-6da72bb0e9cc>\u001b[0m in \u001b[0;36m<module>\u001b[1;34m\u001b[0m\n\u001b[1;32m----> 1\u001b[1;33m \u001b[0mdisplay_entitie4\u001b[0m\u001b[1;33m(\u001b[0m\u001b[0men_core_sci_lg\u001b[0m\u001b[1;33m,\u001b[0m\u001b[0mtest_doc\u001b[0m\u001b[1;33m)\u001b[0m\u001b[1;33m\u001b[0m\u001b[1;33m\u001b[0m\u001b[0m\n\u001b[0m",
      "\u001b[1;31mNameError\u001b[0m: name 'en_core_sci_lg' is not defined"
     ]
    }
   ],
   "source": [
    "display_entitie4(en_core_sci_md,test_doc)"
   ]
  },
  {
   "cell_type": "code",
   "execution_count": 13,
   "metadata": {},
   "outputs": [],
   "source": [
    "def show_medical_abbreviation(model,document):\n",
    "    \"\"\" \n",
    "    This function detects and resolves medical abbreviations in word entities\n",
    "\n",
    "    Parameters: \n",
    "         model(module): A pretrained biomedical model from ScispaCy(https://allenai.github.io/scispacy/)\n",
    "         document(str): Document to be processed\n",
    "\n",
    "    Returns: List of unique abbreviations and their resolution \n",
    "     \"\"\"\n",
    "    nlp = model.load()\n",
    "    abbreviation_pipe = AbbreviationDetector(nlp)\n",
    "    nlp.add_pipe(abbreviation_pipe)\n",
    "    doc = nlp(document)\n",
    "    abbreviated = list(set([f\"{abrv}  {abrv._.long_form}\" for abrv in doc._.abbreviations]))             #list is set to ensure only unique values are returned\n",
    "    return abbreviated"
   ]
  },
  {
   "cell_type": "code",
   "execution_count": 40,
   "metadata": {},
   "outputs": [
    {
     "ename": "NameError",
     "evalue": "name 'show_medical_abbreviation' is not defined",
     "output_type": "error",
     "traceback": [
      "\u001b[1;31m---------------------------------------------------------------------------\u001b[0m",
      "\u001b[1;31mNameError\u001b[0m                                 Traceback (most recent call last)",
      "\u001b[1;32m<ipython-input-40-eb606e472d9b>\u001b[0m in \u001b[0;36m<module>\u001b[1;34m\u001b[0m\n\u001b[1;32m----> 1\u001b[1;33m \u001b[0mshow_medical_abbreviation\u001b[0m\u001b[1;33m(\u001b[0m\u001b[0men_ner_jnlpba_md\u001b[0m\u001b[1;33m,\u001b[0m\u001b[0mtest_doc\u001b[0m\u001b[1;33m)\u001b[0m\u001b[1;33m\u001b[0m\u001b[1;33m\u001b[0m\u001b[0m\n\u001b[0m",
      "\u001b[1;31mNameError\u001b[0m: name 'show_medical_abbreviation' is not defined"
     ]
    }
   ],
   "source": [
    "show_medical_abbreviation(en_ner_bc5cdr_md,test_doc)"
   ]
  }
 ],
 "metadata": {
  "kernelspec": {
   "display_name": "Python 3",
   "language": "python",
   "name": "python3"
  },
  "language_info": {
   "codemirror_mode": {
    "name": "ipython",
    "version": 3
   },
   "file_extension": ".py",
   "mimetype": "text/x-python",
   "name": "python",
   "nbconvert_exporter": "python",
   "pygments_lexer": "ipython3",
   "version": "3.7.3"
  }
 },
 "nbformat": 4,
 "nbformat_minor": 4
}
